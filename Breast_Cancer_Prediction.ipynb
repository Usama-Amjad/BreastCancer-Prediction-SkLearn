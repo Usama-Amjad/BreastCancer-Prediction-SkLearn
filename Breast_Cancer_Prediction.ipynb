{
  "nbformat": 4,
  "nbformat_minor": 0,
  "metadata": {
    "colab": {
      "provenance": [],
      "authorship_tag": "ABX9TyMikATesZexQRSkHruQ1M/9",
      "include_colab_link": true
    },
    "kernelspec": {
      "name": "python3",
      "display_name": "Python 3"
    },
    "language_info": {
      "name": "python"
    }
  },
  "cells": [
    {
      "cell_type": "markdown",
      "metadata": {
        "id": "view-in-github",
        "colab_type": "text"
      },
      "source": [
        "<a href=\"https://colab.research.google.com/github/Usama-Amjad/Breast_Cancer_Prediction_Using_ScikitLearn/blob/master/Breast_Cancer_Prediction.ipynb\" target=\"_parent\"><img src=\"https://colab.research.google.com/assets/colab-badge.svg\" alt=\"Open In Colab\"/></a>"
      ]
    },
    {
      "cell_type": "markdown",
      "source": [
        "# Importing Libraries"
      ],
      "metadata": {
        "id": "RU7CMwEgEnt8"
      }
    },
    {
      "cell_type": "code",
      "execution_count": 1,
      "metadata": {
        "id": "ZDKTo3w-Abac"
      },
      "outputs": [],
      "source": [
        "# Importing Libraries\n",
        "import pandas as pd \n",
        "import seaborn as sns"
      ]
    },
    {
      "cell_type": "markdown",
      "source": [
        "# Downloading dataset from kaggle"
      ],
      "metadata": {
        "id": "DtUzLWdUEgvL"
      }
    },
    {
      "cell_type": "code",
      "source": [
        "# Set Kaggle API credentials\n",
        "import os\n",
        "os.environ['KAGGLE_USERNAME']='usamaamjad7'\n",
        "os.environ['KAGGLE_KEY']='46527939d31d2897864b7d04d02a18e3'"
      ],
      "metadata": {
        "id": "QrKL7z2JBBiY"
      },
      "execution_count": 2,
      "outputs": []
    },
    {
      "cell_type": "code",
      "source": [
        "# Downloading data set from kaggle\n",
        "! kaggle datasets download -d uciml/breast-cancer-wisconsin-data"
      ],
      "metadata": {
        "colab": {
          "base_uri": "https://localhost:8080/"
        },
        "id": "wAXZJZi_CS93",
        "outputId": "b4c557f0-f269-4df5-c524-9e578dab0c78"
      },
      "execution_count": 4,
      "outputs": [
        {
          "output_type": "stream",
          "name": "stdout",
          "text": [
            "Downloading breast-cancer-wisconsin-data.zip to /content\n",
            "\r  0% 0.00/48.6k [00:00<?, ?B/s]\n",
            "\r100% 48.6k/48.6k [00:00<00:00, 51.0MB/s]\n"
          ]
        }
      ]
    },
    {
      "cell_type": "code",
      "source": [
        "# Unzip file\n",
        "! unzip /content/breast-cancer-wisconsin-data.zip"
      ],
      "metadata": {
        "colab": {
          "base_uri": "https://localhost:8080/"
        },
        "id": "0VZgraVODGMQ",
        "outputId": "4d042b6a-69e6-4de8-d59d-ec89cc4451ab"
      },
      "execution_count": 5,
      "outputs": [
        {
          "output_type": "stream",
          "name": "stdout",
          "text": [
            "Archive:  /content/breast-cancer-wisconsin-data.zip\n",
            "  inflating: data.csv                \n"
          ]
        }
      ]
    },
    {
      "cell_type": "markdown",
      "source": [
        "# Load and Explore Data"
      ],
      "metadata": {
        "id": "7bMbbZ0FEycO"
      }
    },
    {
      "cell_type": "code",
      "source": [],
      "metadata": {
        "id": "LBSh-HcDEZmD"
      },
      "execution_count": null,
      "outputs": []
    }
  ]
}