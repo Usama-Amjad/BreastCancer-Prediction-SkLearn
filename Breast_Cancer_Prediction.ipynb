{
  "nbformat": 4,
  "nbformat_minor": 0,
  "metadata": {
    "colab": {
      "provenance": [],
      "authorship_tag": "ABX9TyMiub2CR0YOz64Yk1E2nIcB",
      "include_colab_link": true
    },
    "kernelspec": {
      "name": "python3",
      "display_name": "Python 3"
    },
    "language_info": {
      "name": "python"
    }
  },
  "cells": [
    {
      "cell_type": "markdown",
      "metadata": {
        "id": "view-in-github",
        "colab_type": "text"
      },
      "source": [
        "<a href=\"https://colab.research.google.com/github/Usama-Amjad/Breast_Cancer_Prediction_Using_ScikitLearn/blob/master/Breast_Cancer_Prediction.ipynb\" target=\"_parent\"><img src=\"https://colab.research.google.com/assets/colab-badge.svg\" alt=\"Open In Colab\"/></a>"
      ]
    },
    {
      "cell_type": "code",
      "execution_count": 1,
      "metadata": {
        "id": "ZDKTo3w-Abac"
      },
      "outputs": [],
      "source": [
        "# Importing Libraries\n",
        "import pandas as pd \n",
        "import seaborn as sns"
      ]
    },
    {
      "cell_type": "code",
      "source": [
        "# Set Kaggle API credentials\n",
        "import os\n",
        "os.environ['KAGGLE_USERNAME']='usamaamjad7'\n",
        "os.environ['KAGGLE_KEY']='46527939d31d2897864b7d04d02a18e3'"
      ],
      "metadata": {
        "id": "QrKL7z2JBBiY"
      },
      "execution_count": 2,
      "outputs": []
    },
    {
      "cell_type": "code",
      "source": [
        "# Downloading data set from kaggle\n",
        "! kaggle datasets download -d datasets/uciml/breast-cancer-wisconsin-data"
      ],
      "metadata": {
        "id": "wAXZJZi_CS93"
      },
      "execution_count": null,
      "outputs": []
    }
  ]
}